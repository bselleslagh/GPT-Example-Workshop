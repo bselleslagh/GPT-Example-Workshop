{
 "cells": [
  {
   "cell_type": "code",
   "execution_count": 18,
   "metadata": {},
   "outputs": [],
   "source": [
    "import pandas as pd, openai, configparser\n",
    "pd.set_option('display.max_colwidth', None)\n",
    "from tqdm.auto import tqdm"
   ]
  },
  {
   "attachments": {},
   "cell_type": "markdown",
   "metadata": {},
   "source": [
    "# Generating Product Descriptions\n",
    "## Introduction\n",
    "In this exercise, you will generate product descriptions for a set of products. You will use the beers.csv file with the following columns:\n",
    "- name: The name of the beer\n",
    "- brewery: The brewery that makes the beer\n",
    "- type: The type of beer\n",
    "\n",
    "The same principe to other datasets or to various types of products from different industries.\n",
    "\n",
    "## Step 1: Load the data & generate our prompts\n",
    "We will load our data in a pandas dataframe and generate our prompts. We will use the following prompt format:\n",
    "\n",
    "\"Generate a marketing description for a [type] beer called [name] from [brewery].\""
   ]
  },
  {
   "cell_type": "code",
   "execution_count": 9,
   "metadata": {},
   "outputs": [
    {
     "data": {
      "text/html": [
       "<div>\n",
       "<style scoped>\n",
       "    .dataframe tbody tr th:only-of-type {\n",
       "        vertical-align: middle;\n",
       "    }\n",
       "\n",
       "    .dataframe tbody tr th {\n",
       "        vertical-align: top;\n",
       "    }\n",
       "\n",
       "    .dataframe thead th {\n",
       "        text-align: right;\n",
       "    }\n",
       "</style>\n",
       "<table border=\"1\" class=\"dataframe\">\n",
       "  <thead>\n",
       "    <tr style=\"text-align: right;\">\n",
       "      <th></th>\n",
       "      <th>name</th>\n",
       "      <th>brewery</th>\n",
       "      <th>type</th>\n",
       "      <th>prompts</th>\n",
       "    </tr>\n",
       "  </thead>\n",
       "  <tbody>\n",
       "    <tr>\n",
       "      <th>0</th>\n",
       "      <td>Budweiser</td>\n",
       "      <td>Anheuser-Busch</td>\n",
       "      <td>Lager</td>\n",
       "      <td>Generate a marketing description for a Lager beer called Budweiser from brewery Anheuser-Busch.</td>\n",
       "    </tr>\n",
       "    <tr>\n",
       "      <th>1</th>\n",
       "      <td>Coors Light</td>\n",
       "      <td>Coors Brewing Company</td>\n",
       "      <td>Light Lager</td>\n",
       "      <td>Generate a marketing description for a Light Lager beer called Coors Light from brewery Coors Brewing Company.</td>\n",
       "    </tr>\n",
       "    <tr>\n",
       "      <th>2</th>\n",
       "      <td>Miller Lite</td>\n",
       "      <td>Miller Brewing Company</td>\n",
       "      <td>Light Lager</td>\n",
       "      <td>Generate a marketing description for a Light Lager beer called Miller Lite from brewery Miller Brewing Company.</td>\n",
       "    </tr>\n",
       "    <tr>\n",
       "      <th>3</th>\n",
       "      <td>Corona Extra</td>\n",
       "      <td>Grupo Modelo</td>\n",
       "      <td>Pale Lager</td>\n",
       "      <td>Generate a marketing description for a Pale Lager beer called Corona Extra from brewery Grupo Modelo.</td>\n",
       "    </tr>\n",
       "    <tr>\n",
       "      <th>4</th>\n",
       "      <td>Heineken</td>\n",
       "      <td>Heineken Brewery</td>\n",
       "      <td>Pale Lager</td>\n",
       "      <td>Generate a marketing description for a Pale Lager beer called Heineken from brewery Heineken Brewery.</td>\n",
       "    </tr>\n",
       "  </tbody>\n",
       "</table>\n",
       "</div>"
      ],
      "text/plain": [
       "           name                 brewery         type  \\\n",
       "0     Budweiser          Anheuser-Busch        Lager   \n",
       "1   Coors Light   Coors Brewing Company  Light Lager   \n",
       "2   Miller Lite  Miller Brewing Company  Light Lager   \n",
       "3  Corona Extra            Grupo Modelo   Pale Lager   \n",
       "4      Heineken        Heineken Brewery   Pale Lager   \n",
       "\n",
       "                                                                                                           prompts  \n",
       "0                  Generate a marketing description for a Lager beer called Budweiser from brewery Anheuser-Busch.  \n",
       "1   Generate a marketing description for a Light Lager beer called Coors Light from brewery Coors Brewing Company.  \n",
       "2  Generate a marketing description for a Light Lager beer called Miller Lite from brewery Miller Brewing Company.  \n",
       "3            Generate a marketing description for a Pale Lager beer called Corona Extra from brewery Grupo Modelo.  \n",
       "4            Generate a marketing description for a Pale Lager beer called Heineken from brewery Heineken Brewery.  "
      ]
     },
     "execution_count": 9,
     "metadata": {},
     "output_type": "execute_result"
    }
   ],
   "source": [
    "# Load the beers.csv file into a pandas DataFrame named beers\n",
    "beers = pd.read_csv(\"../data_files/beers.csv\")\n",
    "\n",
    "# Create a new column named \"prompts\" in the beers DataFrame, with our prompt text\n",
    "beers[\"prompts\"] = beers.apply(lambda row: f\"Generate a marketing description for a {row['type']} beer called {row['name']} from brewery {row['brewery']}.\", axis=1)\n",
    "\n",
    "beers.head(5)"
   ]
  },
  {
   "attachments": {},
   "cell_type": "markdown",
   "metadata": {},
   "source": [
    "## Step 2: Generate a marketing descriptions\n",
    "We will do this by iterating over the prompts we created in our first step. For each prompt, we will generate a description using the GPT-3 API."
   ]
  },
  {
   "cell_type": "code",
   "execution_count": 15,
   "metadata": {},
   "outputs": [],
   "source": [
    "# Set your OpenAI API key\n",
    "config = configparser.ConfigParser()\n",
    "config.read('../config.ini')\n",
    "openai.api_key = config['openai']['api_key']"
   ]
  },
  {
   "cell_type": "code",
   "execution_count": 22,
   "metadata": {},
   "outputs": [],
   "source": [
    "## Create a function to call the OpenAI API, with the following parameters:\n",
    "# - engine: text-davinci-003\n",
    "# - max_tokens: 100\n",
    "# - temperature: 0.5\n",
    "# - top_p: 1\n",
    "# - frequency_penalty: 0\n",
    "# - presence_penalty: 0\n",
    "\n",
    "def generate_description(prompt):\n",
    "    response = openai.Completion.create(\n",
    "        engine=\"text-davinci-003\",\n",
    "        prompt=prompt,\n",
    "        max_tokens=100,\n",
    "        temperature=0.5,\n",
    "        top_p=1,\n",
    "        frequency_penalty=0,\n",
    "        presence_penalty=0\n",
    "    )\n",
    "    return response.choices[0].text\n"
   ]
  },
  {
   "cell_type": "code",
   "execution_count": 23,
   "metadata": {},
   "outputs": [
    {
     "data": {
      "application/vnd.jupyter.widget-view+json": {
       "model_id": "f33372a362d94a91a7738a75d588cb4e",
       "version_major": 2,
       "version_minor": 0
      },
      "text/plain": [
       "  0%|          | 0/41 [00:00<?, ?it/s]"
      ]
     },
     "metadata": {},
     "output_type": "display_data"
    }
   ],
   "source": [
    "# Apply the function to the \"prompts\" column of the beers DataFrame, and save the results to a new column named \"description\"\n",
    "tqdm.pandas()\n",
    "beers[\"description\"] = beers[\"prompts\"].progress_apply(generate_description)"
   ]
  },
  {
   "cell_type": "code",
   "execution_count": 30,
   "metadata": {},
   "outputs": [
    {
     "name": "stdout",
     "output_type": "stream",
     "text": [
      "Beer: Jim Beam\n",
      "Description: \n",
      "\n",
      "Introducing Jim Beam Lager from Jim Beam Distillery! This crisp, refreshing lager is brewed with the finest ingredients and aged to perfection. Enjoy the smooth, malty flavor of this classic American lager. Perfect for relaxing after a long day, or for enjoying with friends. Jim Beam Lager is a great choice for any occasion. Enjoy the timeless taste of Jim Beam Lager today!\n",
      "\n",
      "Beer: Leffe Blonde\n",
      "Description: \n",
      "\n",
      "Leffe Blonde is an award-winning Belgian-style Pale Ale from the renowned Leffe Brewery. This golden-colored beer offers a smooth and creamy taste with a hint of spice and a subtle sweetness. It has a medium body and a light, slightly floral aroma. The perfect balance of malt and hops make this beer an ideal choice for a variety of occasions. Enjoy a glass of Leffe Blonde and experience a truly unique beer crafted with care and precision.\n",
      "\n",
      "Beer: Lagunitas IPA\n",
      "Description: \n",
      "\n",
      "Lagunitas IPA from Lagunitas Brewing Company is a classic India Pale Ale with a bold and hoppy flavor. This full-bodied beer is brewed with a blend of malts and hops to create a unique, citrusy taste. The aroma of Lagunitas IPA is a combination of pine and grapefruit, with a hint of sweet caramel and malt. The flavor is a balance of bitterness and malt sweetness, with a light, crisp finish. Enjoy this bold and flavorful beer\n",
      "\n",
      "Beer: Corona Extra\n",
      "Description: \n",
      "\n",
      "Introducing Corona Extra from Grupo Modelo, the perfect choice for any occasion. This refreshing pale lager offers a smooth, clean taste with a hint of citrus and a light, crisp finish. Enjoy the bright, golden hue of Corona Extra with each sip and let its smooth, balanced flavor take you away. Whether you’re relaxing at home or out with friends, Corona Extra is the perfect companion. So grab a bottle and enjoy the perfect balance of flavor and refreshment.\n",
      "\n",
      "Beer: IPA\n",
      "Description: \n",
      "\n",
      "Introducing IPA from Various Brewery: a classic India Pale Ale crafted with the finest ingredients. This delicious beer features a bold, hoppy aroma, a bold flavor, and a smooth finish. It's a perfect choice for craft beer lovers who crave a full-bodied and flavorful beer. Enjoy a refreshing IPA from Various Brewery and experience the perfect balance of hop character and malt sweetness. Cheers!\n",
      "\n"
     ]
    }
   ],
   "source": [
    "for index, row in beers.sample(5).iterrows():\n",
    "    print(f\"Beer: {row['name']}\")\n",
    "    print(f\"Description: {row['description']}\")\n",
    "    print(\"\")"
   ]
  }
 ],
 "metadata": {
  "kernelspec": {
   "display_name": "base",
   "language": "python",
   "name": "python3"
  },
  "language_info": {
   "codemirror_mode": {
    "name": "ipython",
    "version": 3
   },
   "file_extension": ".py",
   "mimetype": "text/x-python",
   "name": "python",
   "nbconvert_exporter": "python",
   "pygments_lexer": "ipython3",
   "version": "3.10.8"
  },
  "orig_nbformat": 4,
  "vscode": {
   "interpreter": {
    "hash": "d4d1e4263499bec80672ea0156c357c1ee493ec2b1c70f0acce89fc37c4a6abe"
   }
  }
 },
 "nbformat": 4,
 "nbformat_minor": 2
}

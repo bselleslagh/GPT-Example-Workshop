{
 "cells": [
  {
   "cell_type": "code",
   "execution_count": null,
   "metadata": {},
   "outputs": [],
   "source": [
    "import pandas as pd, openai, configparser\n",
    "pd.set_option('display.max_colwidth', None)\n",
    "from tqdm.auto import tqdm"
   ]
  },
  {
   "attachments": {},
   "cell_type": "markdown",
   "metadata": {},
   "source": [
    "# Generating Product Descriptions\n",
    "## Introduction\n",
    "In this exercise, you will generate product descriptions for a set of products. You will use the beers.csv file with the following columns:\n",
    "- name: The name of the beer\n",
    "- brewery: The brewery that makes the beer\n",
    "- type: The type of beer\n",
    "\n",
    "The same principe to other datasets or to various types of products from different industries.\n",
    "\n",
    "## Step 1: Load the data & generate our prompts\n",
    "We will load our data in a pandas dataframe and generate our prompts. We will use the following prompt format:\n",
    "\n",
    "\"Generate a marketing description for a [type] beer called [name] from [brewery].\""
   ]
  },
  {
   "cell_type": "code",
   "execution_count": null,
   "metadata": {},
   "outputs": [],
   "source": [
    "# Load the beers.csv file into a pandas DataFrame named beers\n",
    "# beers = \n",
    "\n",
    "# Create a new column named \"prompts\" in the beers DataFrame, with our prompt text\n",
    "# beers[\"prompts\"] = \n",
    "\n",
    "#beers.head(5)"
   ]
  },
  {
   "attachments": {},
   "cell_type": "markdown",
   "metadata": {},
   "source": [
    "## Step 2: Generate a marketing descriptions\n",
    "We will do this by iterating over the prompts we created in our first step. For each prompt, we will generate a description using the GPT-3 API."
   ]
  },
  {
   "cell_type": "code",
   "execution_count": null,
   "metadata": {},
   "outputs": [],
   "source": [
    "# Set your OpenAI API key\n",
    "config = configparser.ConfigParser()\n",
    "config.read('../config.ini')\n",
    "openai.api_key = config['openai']['api_key']"
   ]
  },
  {
   "cell_type": "code",
   "execution_count": null,
   "metadata": {},
   "outputs": [],
   "source": [
    "## Create a function to call the OpenAI API, with the following parameters:\n",
    "# - engine: text-davinci-003\n",
    "# - max_tokens: 100\n",
    "# - temperature: 0.5\n",
    "# - top_p: 1\n",
    "# - frequency_penalty: 0\n",
    "# - presence_penalty: 0\n",
    "\n",
    "\"\"\"\n",
    "def generate_description(prompt):\n",
    "    response = openai.Completion.create(\n",
    "        engine=...,\n",
    "\n",
    "    )\n",
    "    return response.choices[0].text\n",
    "\n",
    "\"\"\"\n"
   ]
  },
  {
   "cell_type": "code",
   "execution_count": null,
   "metadata": {},
   "outputs": [],
   "source": [
    "# Apply the function to the \"prompts\" column of the beers DataFrame, and save the results to a new column named \"description\"\n",
    "# tqdm.pandas()\n",
    "# beers[\"description\"] = "
   ]
  },
  {
   "cell_type": "code",
   "execution_count": null,
   "metadata": {},
   "outputs": [],
   "source": [
    "for index, row in beers.sample(5).iterrows():\n",
    "    print(f\"Beer: {row['name']}\\n\")\n",
    "    print(f\"Description: {row['description'].strip()}\")\n",
    "    print(\"\")"
   ]
  }
 ],
 "metadata": {
  "kernelspec": {
   "display_name": "Python 3",
   "language": "python",
   "name": "python3"
  },
  "language_info": {
   "codemirror_mode": {
    "name": "ipython",
    "version": 3
   },
   "file_extension": ".py",
   "mimetype": "text/x-python",
   "name": "python",
   "nbconvert_exporter": "python",
   "pygments_lexer": "ipython3",
   "version": "3.11.1"
  },
  "orig_nbformat": 4,
  "vscode": {
   "interpreter": {
    "hash": "949777d72b0d2535278d3dc13498b2535136f6dfe0678499012e853ee9abcab1"
   }
  }
 },
 "nbformat": 4,
 "nbformat_minor": 2
}
